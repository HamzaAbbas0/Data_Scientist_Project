{
 "cells": [
  {
   "cell_type": "code",
   "execution_count": null,
   "id": "756d7cdf",
   "metadata": {},
   "outputs": [],
   "source": [
    "import joblib\n",
    "from tensorflow.keras.models import load_model\n",
    "import numpy as np\n",
    "\n",
    "# Load the saved model\n",
    "#f'Knowledge/{self.problem_type}/{self.source}/{self.file_name}/models/RFC_model_{self.target_variable}.joblib\n",
    "model = load_model('Knowledge/time series/xls/Combined_combined_data.csv/models/LSTM_model_BG.h5')\n",
    "\n",
    "# Load the scaler\n",
    "scaler = joblib.load('Knowledge/time series/xls/Combined_combined_data.csv/models/scaler_x.pkl')\n",
    "\n",
    "# Assuming you have a new_data array for prediction\n",
    "# Define the data point\n",
    "Unnamed = 0\n",
    "time = \"10/25/2023 6:00\"\n",
    "bg = 126.0139434\n",
    "cgm = 136.4350328\n",
    "cho = 0\n",
    "insulin = 0.013933333\n",
    "lbgi = 0\n",
    "hbgi = 0.446600306\n",
    "risk = 0.446600306\n",
    "patient = \"adolescent\"\n",
    "\n",
    "# Fill in the new_data array\n",
    "new_data = np.array([\n",
    "    [Unnamed,bg, cgm, cho, insulin, lbgi, hbgi, risk]  # Assuming this represents one time step\n",
    "])\n",
    "\n",
    "# Scale the new data\n",
    "scaled_new_data = scaler.transform(new_data)\n",
    "\n",
    "# Reshape the data to match the input shape of the LSTM model\n",
    "sequence_length = 5 # Set this to the sequence length used during training\n",
    "num_features =len(df.columns)  # Set this to the number of features used during training\n",
    "X_data = []\n",
    "for i in range(len(scaled_new_data) - sequence_length):\n",
    "    X_data.append(scaled_new_data[i:(i + sequence_length), :-1])\n",
    "X_data = np.array(X_data)\n",
    "\n",
    "# Make predictions\n",
    "predictions = model.predict(X_data)\n",
    "\n",
    "print(predictions)\n"
   ]
  },
  {
   "cell_type": "code",
   "execution_count": null,
   "id": "5e7e6bed",
   "metadata": {},
   "outputs": [],
   "source": []
  },
  {
   "cell_type": "code",
   "execution_count": null,
   "id": "da3810ea",
   "metadata": {},
   "outputs": [],
   "source": []
  },
  {
   "cell_type": "code",
   "execution_count": null,
   "id": "2fff0a62",
   "metadata": {},
   "outputs": [],
   "source": [
    "import numpy as np\n",
    "import joblib\n",
    "from tensorflow.keras.models import load_model\n",
    "from sklearn.preprocessing import MinMaxScaler\n",
    "\n",
    "# Dummy data generation\n",
    "np.random.seed(0)  # For reproducibility\n",
    "num_samples = 20\n",
    "num_features = 5  # Assuming 7 features similar to your original data\n",
    "sequence_length = 5  # Assuming sequence length of 5\n",
    "\n",
    "dummy_data = np.random.rand(num_samples, num_features)  # Dummy features\n",
    "\n",
    "# Print the first few rows of dummy data\n",
    "print(dummy_data[:5])\n",
    "\n",
    "# Load the saved model\n",
    "model_path = 'Knowledge/time series/xls/Combined_combined_data.csv/models/LSTM_model_BG.h5'\n",
    "model = load_model(model_path)\n",
    "\n",
    "# Load the scaler\n",
    "scaler_path = 'Knowledge/time series/xls/Combined_combined_data.csv/models/scaler_x.pkl'\n",
    "scaler = joblib.load(scaler_path)\n",
    "\n",
    "# Create a new MinMaxScaler with the correct number of features\n",
    "scaler = MinMaxScaler(feature_range=(0, 1))  # Adjust feature_range if needed\n",
    "scaler.fit(dummy_data)\n",
    "\n",
    "# Scale the dummy data using the new scaler\n",
    "scaled_dummy_data = scaler.transform(dummy_data)\n",
    "\n",
    "X_data = []\n",
    "for i in range(len(scaled_dummy_data) - sequence_length + 1):\n",
    "    X_data.append(scaled_dummy_data[i:(i + sequence_length)])\n",
    "X_data = np.array(X_data)\n",
    "\n",
    "# Make sure to reshape X_data to add the batch dimension\n",
    "X_data = np.reshape(X_data, (X_data.shape[0], X_data.shape[1], num_features))  # Assuming num_features is 7\n",
    "\n",
    "# Make predictions\n",
    "predictions = model.predict(X_data)\n",
    "\n",
    "print(predictions)\n"
   ]
  },
  {
   "cell_type": "markdown",
   "id": "fbc6f092",
   "metadata": {},
   "source": [
    "# new time series"
   ]
  },
  {
   "cell_type": "code",
   "execution_count": null,
   "id": "55e44bbc",
   "metadata": {},
   "outputs": [],
   "source": [
    "import pandas as pd\n",
    "import matplotlib.pyplot as plt\n",
    "import numpy as np\n",
    "### Create the Stacked LSTM model\n",
    "from tensorflow.keras.models import Sequential\n",
    "from tensorflow.keras.layers import Dense\n",
    "from tensorflow.keras.layers import LSTM"
   ]
  },
  {
   "cell_type": "code",
   "execution_count": null,
   "id": "b7f88c95",
   "metadata": {},
   "outputs": [],
   "source": [
    "path = 'Bussiness_facility/combined_data.csv'"
   ]
  },
  {
   "cell_type": "code",
   "execution_count": null,
   "id": "d688249d",
   "metadata": {},
   "outputs": [],
   "source": [
    "df = pd.read_csv(path)"
   ]
  },
  {
   "cell_type": "code",
   "execution_count": null,
   "id": "e6c9a7af",
   "metadata": {},
   "outputs": [],
   "source": [
    "df.info()"
   ]
  },
  {
   "cell_type": "code",
   "execution_count": null,
   "id": "8d831d7e",
   "metadata": {},
   "outputs": [],
   "source": [
    "df.head()"
   ]
  },
  {
   "cell_type": "code",
   "execution_count": null,
   "id": "c062a66e",
   "metadata": {},
   "outputs": [],
   "source": [
    "df.tail()"
   ]
  },
  {
   "cell_type": "code",
   "execution_count": null,
   "id": "e7df0061",
   "metadata": {},
   "outputs": [],
   "source": [
    "df1 = df.reset_index()['BG']"
   ]
  },
  {
   "cell_type": "code",
   "execution_count": null,
   "id": "ae617430",
   "metadata": {},
   "outputs": [],
   "source": [
    "df1"
   ]
  },
  {
   "cell_type": "code",
   "execution_count": null,
   "id": "54148cc4",
   "metadata": {},
   "outputs": [],
   "source": [
    "df1.shape"
   ]
  },
  {
   "cell_type": "code",
   "execution_count": null,
   "id": "aff3bd7c",
   "metadata": {},
   "outputs": [],
   "source": [
    "plt.plot(df1)"
   ]
  },
  {
   "cell_type": "markdown",
   "id": "da45ac24",
   "metadata": {},
   "source": [
    "## min max scaler"
   ]
  },
  {
   "cell_type": "code",
   "execution_count": null,
   "id": "1d18effe",
   "metadata": {},
   "outputs": [],
   "source": [
    "from sklearn.preprocessing import MinMaxScaler\n",
    "scaler= MinMaxScaler(feature_range=(0,1))\n",
    "df1 = scaler.fit_transform(np.array(df1).reshape(-1,1))"
   ]
  },
  {
   "cell_type": "code",
   "execution_count": null,
   "id": "7401c8bd",
   "metadata": {},
   "outputs": [],
   "source": [
    "df1.shape"
   ]
  },
  {
   "cell_type": "markdown",
   "id": "fd7d5940",
   "metadata": {},
   "source": [
    "## Train Test Split"
   ]
  },
  {
   "cell_type": "code",
   "execution_count": null,
   "id": "55f6bc6c",
   "metadata": {},
   "outputs": [],
   "source": [
    "training_size = int(len(df1)*0.65)\n",
    "test_size = len(df1)-training_size\n",
    "train_data,test_data = df1[0:training_size,:],df1[training_size:len(df1),:1]"
   ]
  },
  {
   "cell_type": "code",
   "execution_count": null,
   "id": "ff2eeb54",
   "metadata": {},
   "outputs": [],
   "source": [
    "train_data.shape,test_data.shape"
   ]
  },
  {
   "cell_type": "code",
   "execution_count": null,
   "id": "27bfe11f",
   "metadata": {},
   "outputs": [],
   "source": [
    "import numpy\n",
    "def create_dataset(dataset,time_step=1):\n",
    "    dataX,dataY = [], []\n",
    "    for i in range(len(dataset)-time_step-1):\n",
    "        a = dataset[i:(i+time_step),0]     #i=0, 0,1,2,3\n",
    "        dataX.append(a)\n",
    "        dataY.append(dataset[i+time_step,0])\n",
    "    return numpy.array(dataX), numpy.array(dataY)\n",
    "        "
   ]
  },
  {
   "cell_type": "code",
   "execution_count": null,
   "id": "1f36e4e3",
   "metadata": {},
   "outputs": [],
   "source": [
    "#reshape into \n",
    "time_step =100\n",
    "X_train,y_train = create_dataset(train_data, time_step)\n",
    "X_test, y_test = create_dataset(test_data, time_step)"
   ]
  },
  {
   "cell_type": "code",
   "execution_count": null,
   "id": "d60bad9c",
   "metadata": {},
   "outputs": [],
   "source": [
    "print(X_train.shape)"
   ]
  },
  {
   "cell_type": "code",
   "execution_count": null,
   "id": "326fa266",
   "metadata": {},
   "outputs": [],
   "source": [
    "# reshape input to be [samples, time steps, features] which is required for LSTM\n",
    "X_train =X_train.reshape(X_train.shape[0],X_train.shape[1] , 1)\n",
    "X_test = X_test.reshape(X_test.shape[0],X_test.shape[1] , 1)"
   ]
  },
  {
   "cell_type": "code",
   "execution_count": null,
   "id": "d1dd8adb",
   "metadata": {},
   "outputs": [],
   "source": []
  },
  {
   "cell_type": "code",
   "execution_count": null,
   "id": "8b532eaa",
   "metadata": {},
   "outputs": [],
   "source": [
    "model=Sequential()\n",
    "model.add(LSTM(50,return_sequences=True,input_shape=(100,1)))\n",
    "model.add(LSTM(50,return_sequences=True))\n",
    "model.add(LSTM(50))\n",
    "model.add(Dense(1))\n",
    "model.compile(loss='mean_squared_error',optimizer='adam')"
   ]
  },
  {
   "cell_type": "code",
   "execution_count": null,
   "id": "e8474f22",
   "metadata": {},
   "outputs": [],
   "source": [
    "model.summary()"
   ]
  },
  {
   "cell_type": "code",
   "execution_count": null,
   "id": "c7355ad1",
   "metadata": {},
   "outputs": [],
   "source": [
    "model.fit(X_train,y_train,validation_data=(X_test,y_test),epochs=10,batch_size=64,verbose=1)"
   ]
  },
  {
   "cell_type": "markdown",
   "id": "616722c6",
   "metadata": {},
   "source": [
    "# Predictions"
   ]
  },
  {
   "cell_type": "code",
   "execution_count": null,
   "id": "d0a677e7",
   "metadata": {},
   "outputs": [],
   "source": [
    "#prediction\n",
    "train_predict =  model.predict(X_train)\n",
    "test_predict = model.predict(X_test)"
   ]
  },
  {
   "cell_type": "code",
   "execution_count": null,
   "id": "9311c731",
   "metadata": {},
   "outputs": [],
   "source": [
    "#Transformback to original form\n",
    "train_predict = scaler.inverse_transform(train_predict)\n",
    "test_predict = scaler.inverse_transform(test_predict)"
   ]
  },
  {
   "cell_type": "code",
   "execution_count": null,
   "id": "9ce3cefa",
   "metadata": {},
   "outputs": [],
   "source": [
    "print(test_predict[:5])"
   ]
  },
  {
   "cell_type": "markdown",
   "id": "531d3e92",
   "metadata": {},
   "source": [
    "## calculate RMSE performace"
   ]
  },
  {
   "cell_type": "code",
   "execution_count": null,
   "id": "4faa30a7",
   "metadata": {},
   "outputs": [],
   "source": [
    "import math\n",
    "from sklearn.metrics import mean_squared_error\n",
    "math.sqrt(mean_squared_error(y_train,train_predict))"
   ]
  },
  {
   "cell_type": "code",
   "execution_count": null,
   "id": "13b26d52",
   "metadata": {},
   "outputs": [],
   "source": [
    "## Test Data RMSE\n",
    "math.sqrt(mean_squared_error(y_test,test_predict))"
   ]
  },
  {
   "cell_type": "markdown",
   "id": "8c955e56",
   "metadata": {},
   "source": [
    "## Train Vs Test Data"
   ]
  },
  {
   "cell_type": "code",
   "execution_count": null,
   "id": "e923d63f",
   "metadata": {},
   "outputs": [],
   "source": [
    "### Plotting \n",
    "# shift train predictions for plotting\n",
    "look_back=100\n",
    "trainPredictPlot = numpy.empty_like(df1)\n",
    "trainPredictPlot[:, :] = np.nan\n",
    "trainPredictPlot[look_back:len(train_predict)+look_back, :] = train_predict\n",
    "# shift test predictions for plotting\n",
    "testPredictPlot = numpy.empty_like(df1)\n",
    "testPredictPlot[:, :] = numpy.nan\n",
    "testPredictPlot[len(train_predict)+(look_back*2)+1:len(df1)-1, :] = test_predict\n",
    "# plot baseline and predictions\n",
    "plt.plot(scaler.inverse_transform(df1))\n",
    "plt.plot(trainPredictPlot)\n",
    "plt.plot(testPredictPlot)\n",
    "plt.show()"
   ]
  },
  {
   "cell_type": "markdown",
   "id": "73c19326",
   "metadata": {},
   "source": [
    "## prediction next 10 days"
   ]
  },
  {
   "cell_type": "code",
   "execution_count": null,
   "id": "39da2c62",
   "metadata": {},
   "outputs": [],
   "source": [
    "len(test_data)"
   ]
  },
  {
   "cell_type": "code",
   "execution_count": null,
   "id": "9d29365d",
   "metadata": {},
   "outputs": [],
   "source": [
    "x_input=test_data[10988:].reshape(1,-1)\n",
    "x_input.shape"
   ]
  },
  {
   "cell_type": "code",
   "execution_count": null,
   "id": "53de7fc5",
   "metadata": {},
   "outputs": [],
   "source": [
    "temp_input=list(x_input)\n",
    "temp_input=temp_input[0].tolist()"
   ]
  },
  {
   "cell_type": "code",
   "execution_count": null,
   "id": "f7afd4fe",
   "metadata": {},
   "outputs": [],
   "source": []
  },
  {
   "cell_type": "code",
   "execution_count": null,
   "id": "2bde99a9",
   "metadata": {},
   "outputs": [],
   "source": [
    "# Define the number of future days to predict\n",
    "num_days = 30\n",
    "n_steps = 100\n",
    "# Initialize temp_input with the last known values from your dataset\n",
    "\n",
    "# Predict future values for each day in the specified range\n",
    "predicted_values_scaled = []  # Store scaled predicted values\n",
    "for i in range(num_days):\n",
    "    x_input = np.array(temp_input).reshape((1, n_steps, 1))\n",
    "    yhat = model.predict(x_input, verbose=0)\n",
    "    temp_input = np.append(temp_input[1:], yhat[0])  # Update temp_input for the next prediction\n",
    "    predicted_values_scaled.append(yhat[0])\n",
    "\n",
    "# Inverse scale the predicted values\n",
    "predicted_values = scaler.inverse_transform(np.array(predicted_values_scaled).reshape(-1, 1)).flatten()\n",
    "\n",
    "# Print and plot the predicted values\n",
    "for i, pred in enumerate(predicted_values):\n",
    "    print(\"Day {}: Predicted BG value = {}\".format(i + 1, pred))"
   ]
  },
  {
   "cell_type": "markdown",
   "id": "399fdc17",
   "metadata": {},
   "source": [
    "# new test"
   ]
  },
  {
   "cell_type": "code",
   "execution_count": null,
   "id": "e9ab4738",
   "metadata": {},
   "outputs": [],
   "source": [
    "path = 'Bussiness_facility/combined_data.csv'\n",
    "df = pd.read_csv(path, parse_dates=['Time'])"
   ]
  },
  {
   "cell_type": "code",
   "execution_count": null,
   "id": "24ffb59a",
   "metadata": {},
   "outputs": [],
   "source": [
    "import pandas as pd\n",
    "import numpy as np\n",
    "from sklearn.preprocessing import MinMaxScaler\n",
    "from keras.models import Sequential\n",
    "from keras.layers import LSTM, Dense\n",
    "import matplotlib.pyplot as plt\n",
    "\n",
    "# Load the dataset\n",
    "data = pd.read_csv('Bussiness_facility/combined_data.csv')\n",
    "\n",
    "# Convert the 'Time' column to datetime\n",
    "data['Time'] = pd.to_datetime(data['Time'], errors='coerce')\n",
    "\n",
    "# Set the 'Time' column as the index\n",
    "data.set_index('Time', inplace=True)\n",
    "\n",
    "# Function to prepare data for LSTM\n",
    "def prepare_data_for_lstm(data, target_column, look_back=1):\n",
    "    scaler = MinMaxScaler(feature_range=(0, 1))\n",
    "    dataset = scaler.fit_transform(data[[target_column]])\n",
    "\n",
    "    X, Y = [], []\n",
    "    for i in range(len(dataset) - look_back):\n",
    "        X.append(dataset[i:(i + look_back), 0])\n",
    "        Y.append(dataset[i + look_back, 0])\n",
    "    return np.array(X), np.array(Y), scaler\n",
    "\n",
    "# Function to create LSTM model\n",
    "def create_lstm_model(look_back):\n",
    "    model = Sequential()\n",
    "    model.add(LSTM(units=50, input_shape=(look_back, 1)))\n",
    "    model.add(Dense(units=1))\n",
    "    model.compile(optimizer='adam', loss='mean_squared_error')\n",
    "    return model\n",
    "\n",
    "# Function to perform time series forecasting using LSTM\n",
    "def forecast_lstm(data, target_column, look_back=1, epochs=10, batch_size=1, forecast_period=10):\n",
    "    X, Y, scaler = prepare_data_for_lstm(data, target_column, look_back)\n",
    "    X = np.reshape(X, (X.shape[0], X.shape[1], 1))\n",
    "\n",
    "    model = create_lstm_model(look_back)\n",
    "    model.fit(X, Y, epochs=epochs, batch_size=batch_size, verbose=2)\n",
    "\n",
    "    # Make predictions for forecast period\n",
    "    last_input = X[-1]\n",
    "    forecast_data = []\n",
    "    for _ in range(forecast_period):\n",
    "        prediction = model.predict(np.reshape(last_input, (1, look_back, 1)))\n",
    "        forecast_data.append(prediction[0][0])\n",
    "        last_input = np.append(last_input[1:], prediction[0])\n",
    "\n",
    "    # Inverse transform the forecast predictions\n",
    "    forecast_data = scaler.inverse_transform(np.array(forecast_data).reshape(-1, 1))\n",
    "    print(\"Forecasted data:\")\n",
    "    print(forecast_data)\n",
    "    return forecast_data\n",
    "\n"
   ]
  },
  {
   "cell_type": "code",
   "execution_count": null,
   "id": "f3fb547f",
   "metadata": {},
   "outputs": [],
   "source": [
    "# Example usage\n",
    "target_column = 'BG'  # Specify the target column name\n",
    "forecast_period = 10  # Specify the forecast period\n",
    "look_back = 1  # Specify the number of timesteps to look back\n",
    "\n",
    "forecast_lstm(data, target_column, look_back=look_back, forecast_period=forecast_period)\n"
   ]
  },
  {
   "cell_type": "code",
   "execution_count": null,
   "id": "526152d5",
   "metadata": {},
   "outputs": [],
   "source": []
  },
  {
   "cell_type": "code",
   "execution_count": null,
   "id": "75f6bda5",
   "metadata": {},
   "outputs": [],
   "source": []
  },
  {
   "cell_type": "code",
   "execution_count": null,
   "id": "e0f54428",
   "metadata": {},
   "outputs": [],
   "source": []
  },
  {
   "cell_type": "code",
   "execution_count": null,
   "id": "afdccda1",
   "metadata": {},
   "outputs": [],
   "source": []
  },
  {
   "cell_type": "code",
   "execution_count": null,
   "id": "13113ec3",
   "metadata": {},
   "outputs": [],
   "source": []
  },
  {
   "cell_type": "code",
   "execution_count": null,
   "id": "22fa3383",
   "metadata": {},
   "outputs": [],
   "source": []
  },
  {
   "cell_type": "code",
   "execution_count": null,
   "id": "99ddd263",
   "metadata": {},
   "outputs": [],
   "source": [
    "import pandas as pd\n",
    "import numpy as np\n",
    "from sklearn.preprocessing import MinMaxScaler\n",
    "from keras.models import Sequential\n",
    "from keras.layers import LSTM, Dense\n",
    "import matplotlib.pyplot as plt\n",
    "\n",
    "# Load the dataset\n",
    "data = pd.read_csv('Bussiness_facility/combined_data.csv')\n",
    "\n",
    "# Convert the 'Time' column to datetime\n",
    "data['Time'] = pd.to_datetime(data['Time'], errors='coerce')\n",
    "\n",
    "# Remove the 'Time' column before setting it as the index\n",
    "data.set_index('Time', inplace=True)\n",
    "\n",
    "# Function to prepare data for LSTM\n",
    "def prepare_data_for_lstm(data, target_column, look_back=1):\n",
    "    scaler = MinMaxScaler(feature_range=(0, 1))\n",
    "    dataset = scaler.fit_transform(data[[target_column]])\n",
    "\n",
    "    X, Y = [], []\n",
    "    for i in range(len(dataset) - look_back):\n",
    "        X.append(dataset[i:(i + look_back), 0])\n",
    "        Y.append(dataset[i + look_back, 0])\n",
    "    return np.array(X), np.array(Y), scaler\n",
    "\n",
    "# Function to create LSTM model\n",
    "def create_lstm_model(look_back):\n",
    "    model = Sequential()\n",
    "    model.add(LSTM(units=50, input_shape=(look_back, 1)))\n",
    "    model.add(Dense(units=1))\n",
    "    model.compile(optimizer='adam', loss='mean_squared_error')\n",
    "    return model\n",
    "\n",
    "# Function to perform time series forecasting using LSTM\n",
    "def forecast_lstm(data, target_column, look_back=1, epochs=10, batch_size=1, forecast_period=10):\n",
    "    X, Y, scaler = prepare_data_for_lstm(data, target_column, look_back)\n",
    "    X = np.reshape(X, (X.shape[0], X.shape[1], 1))\n",
    "\n",
    "    model = create_lstm_model(look_back)\n",
    "    model.fit(X, Y, epochs=epochs, batch_size=batch_size, verbose=2)\n",
    "\n",
    "    # Make predictions for forecast period\n",
    "    last_input = X[-1]\n",
    "    forecast_data = []\n",
    "    for _ in range(forecast_period):\n",
    "        prediction = model.predict(np.reshape(last_input, (1, look_back, 1)))\n",
    "        forecast_data.append(prediction[0][0])\n",
    "        last_input = np.append(last_input[1:], prediction[0])\n",
    "\n",
    "    # Inverse transform the forecast predictions\n",
    "    forecast_data = scaler.inverse_transform(np.array(forecast_data).reshape(-1, 1))\n",
    "    print(forecast_data)\n",
    "\n",
    "# Define the forecast period\n",
    "start_date = '2023-10-26 12:25:00'\n",
    "end_date = '2023-11-26 12:25:00'\n",
    "\n",
    "# Filter the data for the forecast period\n",
    "forecast_data = data[start_date:end_date]\n",
    "\n",
    "# Perform forecasting\n",
    "forecast_lstm(forecast_data, target_column='BG', look_back=1, epochs=10, batch_size=1, forecast_period=10)\n"
   ]
  },
  {
   "cell_type": "code",
   "execution_count": null,
   "id": "0ceeab2a",
   "metadata": {},
   "outputs": [],
   "source": [
    "from transformers import AutoModelForCausalLM, AutoTokenizer\n",
    "\n",
    "class ConversationGenerator:\n",
    "    def __init__(self, model_name_or_path):\n",
    "        self.model = AutoModelForCausalLM.from_pretrained(model_name_or_path, device_map=\"auto\")\n",
    "        self.tokenizer = AutoTokenizer.from_pretrained(model_name_or_path)\n",
    "    \n",
    "    def generate_response(self, user_question, system_prompt_question, max_tokens=100):\n",
    "        conversation = [\n",
    "            {\"role\": \"user\", \"content\": user_question},\n",
    "            {\"role\": \"assistant\", \"content\": system_prompt_question}\n",
    "        ]\n",
    "        \n",
    "        model_inputs = self.tokenizer.apply_chat_template(conversation, return_tensors=\"pt\").to(\"cuda\")\n",
    "        generated_ids = self.model.generate(model_inputs, max_new_tokens=max_tokens, do_sample=True)\n",
    "        response = self.tokenizer.batch_decode(generated_ids)[0]\n",
    "        \n",
    "        return response\n",
    "    \n",
    "    def introduction(self, user_question):\n",
    "        system_prompt_question = \"Can you introduce yourself?\"\n",
    "        user_question = \"Can you introduce yourself?\"\n",
    "        return self.generate_response(user_question, system_prompt_question)\n",
    "    \n",
    "    def summary(self, user_question):\n",
    "        system_prompt_question = \"Can you provide a summary?\"\n",
    "        user_question = \"Can you provide a summary?\"\n",
    "        return self.generate_response(user_question, system_prompt_question)\n",
    "\n",
    "# Example usage:\n",
    "generator = ConversationGenerator(\"mistralai/Mistral-7B-Instruct-v0.2\")\n",
    "\n",
    "# Introduction\n",
    "\n",
    "response = generator.introduction(user_question)\n",
    "print(\"Introduction:\", response)\n"
   ]
  },
  {
   "cell_type": "code",
   "execution_count": null,
   "id": "69274dd6",
   "metadata": {},
   "outputs": [],
   "source": [
    "# Summary\n",
    "\n",
    "response = generator.summary(user_question)\n",
    "print(\"Summary:\", response)"
   ]
  },
  {
   "cell_type": "code",
   "execution_count": null,
   "id": "dfdad49e",
   "metadata": {},
   "outputs": [],
   "source": [
    "import pandas as pd\n",
    "import numpy as np\n",
    "from sklearn.preprocessing import MinMaxScaler\n",
    "import tensorflow as tf\n",
    "from tensorflow.keras.models import Sequential\n",
    "from tensorflow.keras.layers import LSTM, Dense\n",
    "import matplotlib.pyplot as plt\n",
    "\n",
    "# Load the dataset\n",
    "data = pd.read_csv('Bussiness_facility/combined_data.csv')\n",
    "\n",
    "# Convert the 'Time' column to datetime\n",
    "data['Time'] = pd.to_datetime(data['Time'], errors='coerce')\n",
    "\n",
    "# Remove the 'Time' column before setting it as the index\n",
    "data.set_index('Time', inplace=True)\n",
    "\n",
    "# Function to prepare data for LSTM\n",
    "def prepare_data_for_lstm(data, target_column, look_back=1):\n",
    "    scaler = MinMaxScaler(feature_range=(0, 1))\n",
    "    dataset = scaler.fit_transform(data[[target_column]])\n",
    "\n",
    "    X, Y = [], []\n",
    "    for i in range(len(dataset) - look_back):\n",
    "        X.append(dataset[i:(i + look_back), 0])\n",
    "        Y.append(dataset[i + look_back, 0])\n",
    "    return np.array(X), np.array(Y), scaler\n",
    "\n",
    "# Function to create LSTM model\n",
    "def create_lstm_model(look_back):\n",
    "    model = Sequential()\n",
    "    model.add(LSTM(units=50, input_shape=(look_back, 1)))\n",
    "    model.add(Dense(units=1))\n",
    "    model.compile(optimizer='adam', loss='mean_squared_error')\n",
    "    return model\n",
    "\n",
    "# Function to perform time series forecasting using LSTM\n",
    "def forecast_lstm(data, time_column, target_column, look_back=1, epochs=10, batch_size=1, forecast_period=10):\n",
    "    X, Y, scaler = prepare_data_for_lstm(data, target_column, look_back)\n",
    "    X = np.reshape(X, (X.shape[0], X.shape[1], 1))\n",
    "\n",
    "    model = create_lstm_model(look_back)\n",
    "    model.fit(X, Y, epochs=epochs, batch_size=batch_size, verbose=2)\n",
    "\n",
    "    # Make predictions for forecast period\n",
    "    last_input = X[-1]\n",
    "    forecast_data = []\n",
    "    for _ in range(forecast_period):\n",
    "        prediction = model.predict(np.reshape(last_input, (1, look_back, 1)))\n",
    "        forecast_data.append(prediction[0][0])\n",
    "        last_input = np.append(last_input[1:], prediction[0])\n",
    "\n",
    "    # Inverse transform the forecast predictions\n",
    "    forecast_data = scaler.inverse_transform(np.array(forecast_data).reshape(-1, 1))\n",
    "    return forecast_data\n",
    "\n",
    "# Define the forecast period\n",
    "start_date = '2023-10-26 12:25:00'\n",
    "end_date = '2023-11-26 12:25:00'\n",
    "\n",
    "# Prompt user to input target column and time column\n",
    "target_column = input(\"Enter the target column: \")\n",
    "time_column = input(\"Enter the time column: \")\n",
    "\n",
    "# Filter the data for the forecast period\n",
    "forecast_data = data[start_date:end_date]\n",
    "\n",
    "# Perform forecasting\n",
    "forecasted_values = forecast_lstm(forecast_data, time_column=time_column, target_column=target_column, look_back=1, epochs=10, batch_size=1, forecast_period=100)\n",
    "\n",
    "# Plot the original data and forecasted values\n",
    "plt.figure(figsize=(10, 6))\n",
    "plt.plot(data.index, data[target_column], label='Original Data')\n",
    "\n",
    "# Extract the last timestamp from the forecast_data index\n",
    "last_timestamp = forecast_data.index[-1].to_pydatetime()\n",
    "\n",
    "# Print the last timestamp for debugging\n",
    "print(\"Last Timestamp:\", last_timestamp)\n",
    "\n",
    "# Generate date range for forecasted values\n",
    "forecast_date_range = pd.date_range(start=last_timestamp, periods=len(forecasted_values), freq='D')\n",
    "\n",
    "# Print the forecast date range for debugging\n",
    "print(\"Forecast Date Range:\", forecast_date_range)\n",
    "\n",
    "# Plot the forecasted values with the correct date range\n",
    "plt.plot(forecast_date_range, forecasted_values, label='Forecasted Data')\n",
    "plt.xlabel(time_column)\n",
    "plt.ylabel(target_column)\n",
    "plt.title('Original vs Forecasted Data')\n",
    "plt.legend()\n",
    "plt.show()"
   ]
  },
  {
   "cell_type": "code",
   "execution_count": null,
   "id": "4a6d4110",
   "metadata": {},
   "outputs": [],
   "source": [
    "print(len(forecasted_values) )"
   ]
  },
  {
   "cell_type": "code",
   "execution_count": null,
   "id": "ab967e32",
   "metadata": {},
   "outputs": [],
   "source": [
    "# Plot the original data and forecasted values\n",
    "plt.figure(figsize=(10, 6))\n",
    "plt.plot(data.index, data[target_column], label='Original Data')\n",
    "\n",
    "# Extract the last timestamp from the forecast_data index\n",
    "last_timestamp = forecast_data.index[-1].to_pydatetime()\n",
    "\n",
    "# Print the last timestamp for debugging\n",
    "print(\"Last Timestamp:\", last_timestamp)\n",
    "\n",
    "# Generate date range for forecasted values\n",
    "forecast_date_range = pd.date_range(start=last_timestamp, periods=len(forecasted_values), freq='D')\n",
    "\n",
    "# Print the forecast date range for debugging\n",
    "print(\"Forecast Date Range:\", forecast_date_range)\n",
    "\n",
    "# Plot the forecasted values with the correct date range\n",
    "plt.plot(forecast_date_range, forecasted_values, label='Forecasted Data')\n",
    "plt.xlabel(time_column)\n",
    "plt.ylabel(target_column)\n",
    "plt.title('Original vs Forecasted Data')\n",
    "plt.legend()\n",
    "plt.show()\n"
   ]
  },
  {
   "cell_type": "code",
   "execution_count": null,
   "id": "a6cbc6a4",
   "metadata": {},
   "outputs": [],
   "source": [
    "# Print the timestamp along with the corresponding forecasted value\n",
    "for timestamp, value in zip(forecast_date_range, forecasted_values):\n",
    "    print(\"Timestamp:\", timestamp, \"| Forecasted Value:\", value)\n"
   ]
  },
  {
   "cell_type": "markdown",
   "id": "b43dd4a9",
   "metadata": {},
   "source": [
    "# NEW"
   ]
  },
  {
   "cell_type": "code",
   "execution_count": null,
   "id": "d9524387",
   "metadata": {},
   "outputs": [],
   "source": [
    "import pandas as pd\n",
    "import numpy as np\n",
    "from sklearn.preprocessing import MinMaxScaler\n",
    "import tensorflow as tf\n",
    "from tensorflow.keras.models import Sequential\n",
    "from tensorflow.keras.layers import LSTM, Dense\n",
    "import matplotlib.pyplot as plt\n",
    "\n",
    "# Load the dataset\n",
    "data = pd.read_csv('Bussiness_facility/combined_data.csv')\n",
    "\n",
    "# Convert the 'Time' column to datetime\n",
    "data['Time'] = pd.to_datetime(data['Time'], errors='coerce')\n",
    "\n",
    "# Remove the 'Time' column before setting it as the index\n",
    "data.set_index('Time', inplace=True)\n",
    "\n",
    "# Function to prepare data for LSTM\n",
    "def prepare_data_for_lstm(data, target_column, look_back=1):\n",
    "    scaler = MinMaxScaler(feature_range=(0, 1))\n",
    "    dataset = scaler.fit_transform(data[[target_column]])\n",
    "\n",
    "    X, Y = [], []\n",
    "    for i in range(len(dataset) - look_back):\n",
    "        X.append(dataset[i:(i + look_back), 0])\n",
    "        Y.append(dataset[i + look_back, 0])\n",
    "    return np.array(X), np.array(Y), scaler\n",
    "\n",
    "# Function to create LSTM model\n",
    "def create_lstm_model(look_back):\n",
    "    model = Sequential()\n",
    "    model.add(LSTM(units=50, input_shape=(look_back, 1)))\n",
    "    model.add(Dense(units=1))\n",
    "    model.compile(optimizer='adam', loss='mean_squared_error')\n",
    "    return model\n",
    "\n",
    "# Function to perform time series forecasting using LSTM\n",
    "def forecast_lstm(data, target_column, look_back=1, epochs=10, batch_size=1, forecast_period=10):\n",
    "    X, Y, scaler = prepare_data_for_lstm(data, target_column, look_back)\n",
    "    X = np.reshape(X, (X.shape[0], X.shape[1], 1))\n",
    "\n",
    "    model = create_lstm_model(look_back)\n",
    "    model.fit(X, Y, epochs=epochs, batch_size=batch_size, verbose=2)\n",
    "\n",
    "    # Make predictions for forecast period\n",
    "    last_input = X[-1]\n",
    "    forecast_data = []\n",
    "    for _ in range(forecast_period):\n",
    "        prediction = model.predict(np.reshape(last_input, (1, look_back, 1)))\n",
    "        forecast_data.append(prediction[0][0])\n",
    "        last_input = np.append(last_input[1:], prediction[0])\n",
    "\n",
    "    # Inverse transform the forecast predictions\n",
    "    forecast_data = scaler.inverse_transform(np.array(forecast_data).reshape(-1, 1))\n",
    "    return forecast_data\n",
    "\n",
    "# Prompt user to input target column\n",
    "target_column = input(\"Enter the target column: \")\n",
    "\n",
    "# Prompt user to input time column\n",
    "time_column = input(\"Enter the time column: \")\n",
    "\n",
    "# Define the prediction date\n",
    "prediction_date = pd.to_datetime('2025-11-26 12:25:00')\n",
    "\n",
    "# Filter the data for training up to the date just before the prediction date\n",
    "historical_data = data[data.index < prediction_date]\n",
    "\n",
    "# Perform forecasting\n",
    "forecasted_value = forecast_lstm(historical_data, target_column=target_column, look_back=1, epochs=10, batch_size=1, forecast_period=1)\n",
    "\n",
    "# Print the forecasted value\n",
    "print(\"Forecasted Value for\", prediction_date, \":\", forecasted_value[0])\n"
   ]
  },
  {
   "cell_type": "markdown",
   "id": "7bd42dda",
   "metadata": {},
   "source": [
    "# T VS F"
   ]
  },
  {
   "cell_type": "code",
   "execution_count": null,
   "id": "dc47cad0",
   "metadata": {},
   "outputs": [],
   "source": [
    "import pandas as pd\n",
    "import numpy as np\n",
    "from sklearn.preprocessing import MinMaxScaler\n",
    "import tensorflow as tf\n",
    "from tensorflow.keras.models import Sequential, load_model\n",
    "from tensorflow.keras.layers import LSTM, Dense\n",
    "import joblib\n",
    "\n",
    "# Load the dataset\n",
    "data = pd.read_csv('Bussiness_facility/combined_data.csv')\n",
    "\n",
    "# Convert the 'Time' column to datetime\n",
    "data['Time'] = pd.to_datetime(data['Time'], errors='coerce')\n",
    "\n",
    "# Remove the 'Time' column before setting it as the index\n",
    "data.set_index('Time', inplace=True)\n",
    "\n",
    "# Function to prepare data for LSTM\n",
    "def prepare_data_for_lstm(data, target_column, look_back=1):\n",
    "    scaler = MinMaxScaler(feature_range=(0, 1))\n",
    "    dataset = scaler.fit_transform(data[[target_column]])\n",
    "\n",
    "    X, Y = [], []\n",
    "    for i in range(len(dataset) - look_back):\n",
    "        X.append(dataset[i:(i + look_back), 0])\n",
    "        Y.append(dataset[i + look_back, 0])\n",
    "    return np.array(X), np.array(Y), scaler\n",
    "\n",
    "# Function to create LSTM model\n",
    "def create_lstm_model(look_back):\n",
    "    model = Sequential()\n",
    "    model.add(LSTM(units=50, input_shape=(look_back, 1)))\n",
    "    model.add(Dense(units=1))\n",
    "    model.compile(optimizer='adam', loss='mean_squared_error')\n",
    "    return model\n",
    "\n",
    "# Function to train and save LSTM model\n",
    "def train_and_save_model(data, target_column, look_back=1, epochs=10, batch_size=1):\n",
    "    X, Y, scaler = prepare_data_for_lstm(data, target_column, look_back)\n",
    "    X = np.reshape(X, (X.shape[0], X.shape[1], 1))\n",
    "\n",
    "    model = create_lstm_model(look_back)\n",
    "    model.fit(X, Y, epochs=epochs, batch_size=batch_size, verbose=2)\n",
    "    \n",
    "    # Save the trained model\n",
    "    model.save('time_series_testing_model/trained_model.h5')\n",
    "    \n",
    "    # Save the scaler object\n",
    "    joblib.dump(scaler, 'time_series_testing_model/scaler.pkl')\n",
    "\n",
    "# Prompt user to input target column\n",
    "target_column = input(\"Enter the target column: \")\n",
    "\n",
    "# Train and save the model\n",
    "train_and_save_model(data, target_column=target_column, look_back=1, epochs=10, batch_size=1)\n"
   ]
  },
  {
   "cell_type": "code",
   "execution_count": 3,
   "id": "17dd4e5d",
   "metadata": {},
   "outputs": [
    {
     "name": "stdout",
     "output_type": "stream",
     "text": [
      "Enter the time series column: Time\n",
      "Enter the target column: BG\n",
      "Epoch 1/10\n"
     ]
    },
    {
     "name": "stderr",
     "output_type": "stream",
     "text": [
      "2024-04-22 15:27:34.602173: I tensorflow/core/common_runtime/executor.cc:1197] [/device:CPU:0] (DEBUG INFO) Executor start aborting (this does not indicate an error and you can ignore this message): INVALID_ARGUMENT: You must feed a value for placeholder tensor 'gradients/split_2_grad/concat/split_2/split_dim' with dtype int32\n",
      "\t [[{{node gradients/split_2_grad/concat/split_2/split_dim}}]]\n",
      "2024-04-22 15:27:34.603448: I tensorflow/core/common_runtime/executor.cc:1197] [/device:CPU:0] (DEBUG INFO) Executor start aborting (this does not indicate an error and you can ignore this message): INVALID_ARGUMENT: You must feed a value for placeholder tensor 'gradients/split_grad/concat/split/split_dim' with dtype int32\n",
      "\t [[{{node gradients/split_grad/concat/split/split_dim}}]]\n",
      "2024-04-22 15:27:34.604969: I tensorflow/core/common_runtime/executor.cc:1197] [/device:CPU:0] (DEBUG INFO) Executor start aborting (this does not indicate an error and you can ignore this message): INVALID_ARGUMENT: You must feed a value for placeholder tensor 'gradients/split_1_grad/concat/split_1/split_dim' with dtype int32\n",
      "\t [[{{node gradients/split_1_grad/concat/split_1/split_dim}}]]\n",
      "2024-04-22 15:27:34.836731: I tensorflow/core/common_runtime/executor.cc:1197] [/device:CPU:0] (DEBUG INFO) Executor start aborting (this does not indicate an error and you can ignore this message): INVALID_ARGUMENT: You must feed a value for placeholder tensor 'gradients/split_2_grad/concat/split_2/split_dim' with dtype int32\n",
      "\t [[{{node gradients/split_2_grad/concat/split_2/split_dim}}]]\n",
      "2024-04-22 15:27:34.838690: I tensorflow/core/common_runtime/executor.cc:1197] [/device:CPU:0] (DEBUG INFO) Executor start aborting (this does not indicate an error and you can ignore this message): INVALID_ARGUMENT: You must feed a value for placeholder tensor 'gradients/split_grad/concat/split/split_dim' with dtype int32\n",
      "\t [[{{node gradients/split_grad/concat/split/split_dim}}]]\n",
      "2024-04-22 15:27:34.839895: I tensorflow/core/common_runtime/executor.cc:1197] [/device:CPU:0] (DEBUG INFO) Executor start aborting (this does not indicate an error and you can ignore this message): INVALID_ARGUMENT: You must feed a value for placeholder tensor 'gradients/split_1_grad/concat/split_1/split_dim' with dtype int32\n",
      "\t [[{{node gradients/split_1_grad/concat/split_1/split_dim}}]]\n",
      "2024-04-22 15:27:35.267453: I tensorflow/core/common_runtime/executor.cc:1197] [/device:CPU:0] (DEBUG INFO) Executor start aborting (this does not indicate an error and you can ignore this message): INVALID_ARGUMENT: You must feed a value for placeholder tensor 'gradients/split_2_grad/concat/split_2/split_dim' with dtype int32\n",
      "\t [[{{node gradients/split_2_grad/concat/split_2/split_dim}}]]\n",
      "2024-04-22 15:27:35.269289: I tensorflow/core/common_runtime/executor.cc:1197] [/device:CPU:0] (DEBUG INFO) Executor start aborting (this does not indicate an error and you can ignore this message): INVALID_ARGUMENT: You must feed a value for placeholder tensor 'gradients/split_grad/concat/split/split_dim' with dtype int32\n",
      "\t [[{{node gradients/split_grad/concat/split/split_dim}}]]\n",
      "2024-04-22 15:27:35.270501: I tensorflow/core/common_runtime/executor.cc:1197] [/device:CPU:0] (DEBUG INFO) Executor start aborting (this does not indicate an error and you can ignore this message): INVALID_ARGUMENT: You must feed a value for placeholder tensor 'gradients/split_1_grad/concat/split_1/split_dim' with dtype int32\n",
      "\t [[{{node gradients/split_1_grad/concat/split_1/split_dim}}]]\n"
     ]
    },
    {
     "name": "stdout",
     "output_type": "stream",
     "text": [
      "31679/31679 - 112s - loss: 4.5040e-04 - 112s/epoch - 4ms/step\n",
      "Epoch 2/10\n",
      "31679/31679 - 111s - loss: 1.9896e-04 - 111s/epoch - 3ms/step\n",
      "Epoch 3/10\n",
      "31679/31679 - 107s - loss: 1.9653e-04 - 107s/epoch - 3ms/step\n",
      "Epoch 4/10\n",
      "31679/31679 - 107s - loss: 1.9059e-04 - 107s/epoch - 3ms/step\n",
      "Epoch 5/10\n",
      "31679/31679 - 108s - loss: 1.8901e-04 - 108s/epoch - 3ms/step\n",
      "Epoch 6/10\n",
      "31679/31679 - 112s - loss: 1.8797e-04 - 112s/epoch - 4ms/step\n",
      "Epoch 7/10\n",
      "31679/31679 - 109s - loss: 1.8841e-04 - 109s/epoch - 3ms/step\n",
      "Epoch 8/10\n",
      "31679/31679 - 111s - loss: 1.8508e-04 - 111s/epoch - 3ms/step\n",
      "Epoch 9/10\n",
      "31679/31679 - 107s - loss: 1.8418e-04 - 107s/epoch - 3ms/step\n",
      "Epoch 10/10\n",
      "31679/31679 - 108s - loss: 1.8331e-04 - 108s/epoch - 3ms/step\n"
     ]
    },
    {
     "data": {
      "image/png": "[encoded data removed]",
      "text/plain": [
       "<Figure size 1200x600 with 1 Axes>"
      ]
     },
     "metadata": {},
     "output_type": "display_data"
    }
   ],
   "source": [
    "import pandas as pd\n",
    "import numpy as np\n",
    "from sklearn.preprocessing import MinMaxScaler\n",
    "import tensorflow as tf\n",
    "from tensorflow.keras.models import Sequential, load_model\n",
    "from tensorflow.keras.layers import LSTM, Dense\n",
    "import joblib\n",
    "import matplotlib.pyplot as plt\n",
    "# Load the dataset\n",
    "file_path = 'Bussiness_facility/Diabeties.csv'\n",
    "data = pd.read_csv(file_path)\n",
    "\n",
    "# Prompt user to input the time series column\n",
    "time_series_column = input(\"Enter the time series column: \")\n",
    "\n",
    "# Prompt user to input the target column\n",
    "target_column = input(\"Enter the target column: \")\n",
    "\n",
    "# Convert the time series column to datetime\n",
    "data[time_series_column] = pd.to_datetime(data[time_series_column], errors='coerce')\n",
    "\n",
    "# Remove the time series column before setting it as the index\n",
    "data.set_index(time_series_column, inplace=True)\n",
    "\n",
    "# Function to prepare data for LSTM\n",
    "def prepare_data_for_lstm(data, target_column, look_back=1):\n",
    "    scaler = MinMaxScaler(feature_range=(0, 1))\n",
    "    dataset = scaler.fit_transform(data[[target_column]])\n",
    "\n",
    "    X, Y = [], []\n",
    "    for i in range(len(dataset) - look_back):\n",
    "        X.append(dataset[i:(i + look_back), 0])\n",
    "        Y.append(dataset[i + look_back, 0])\n",
    "    return np.array(X), np.array(Y), scaler\n",
    "\n",
    "# Function to create LSTM model\n",
    "def create_lstm_model(look_back):\n",
    "    model = Sequential()\n",
    "    model.add(LSTM(units=50, input_shape=(look_back, 1)))\n",
    "    model.add(Dense(units=1))\n",
    "    model.compile(optimizer='adam', loss='mean_squared_error')\n",
    "    return model\n",
    "\n",
    "# Function to train and save LSTM model\n",
    "def train_and_save_model(data, target_column, look_back=1, epochs=10, batch_size=1):\n",
    "    X, Y, scaler = prepare_data_for_lstm(data, target_column, look_back)\n",
    "    X = np.reshape(X, (X.shape[0], X.shape[1], 1))\n",
    "\n",
    "    model = create_lstm_model(look_back)\n",
    "    history = model.fit(X, Y, epochs=epochs, batch_size=batch_size, verbose=2)\n",
    "                # Plot training loss\n",
    "    plt.figure(figsize=(12, 6))\n",
    "    plt.plot(history.history['loss'], label='Train Loss')\n",
    "    plt.title('Model Loss Over Epochs')\n",
    "    plt.ylabel('Loss')\n",
    "    plt.xlabel('Epoch')\n",
    "    plt.legend()\n",
    "#     loss_graph_path = f'Knowledge/{self.problem_type}/{self.source}/{self.file_name}/graphs/LSTM_training_loss_graph_{self.dependent_var}.png'\n",
    "#     self.dict_manager.update_value(\"LSTM Training loss graph\", loss_graph_path)\n",
    "#     plt.savefig(loss_graph_path)\n",
    "    plt.show()\n",
    "    # Save the trained model\n",
    "    model.save('time_series_testing_model/trained_model.h5')\n",
    "    \n",
    "    # Save the scaler object\n",
    "    joblib.dump(scaler, 'time_series_testing_model/scaler.pkl')\n",
    "\n",
    "# Train and save the model\n",
    "train_and_save_model(data, target_column=target_column, look_back=1, epochs=10, batch_size=1)\n"
   ]
  },
  {
   "cell_type": "code",
   "execution_count": null,
   "id": "9d701fa8",
   "metadata": {},
   "outputs": [],
   "source": []
  },
  {
   "cell_type": "code",
   "execution_count": null,
   "id": "8b7534b0",
   "metadata": {},
   "outputs": [],
   "source": []
  },
  {
   "cell_type": "markdown",
   "id": "bf032aa6",
   "metadata": {},
   "source": [
    "# With label Encodder"
   ]
  },
  {
   "cell_type": "code",
   "execution_count": null,
   "id": "b369c2e3",
   "metadata": {},
   "outputs": [],
   "source": [
    "import pandas as pd\n",
    "import numpy as np\n",
    "from sklearn.preprocessing import MinMaxScaler, LabelEncoder\n",
    "import tensorflow as tf\n",
    "from tensorflow.keras.models import Sequential\n",
    "from tensorflow.keras.layers import LSTM, Dense\n",
    "import joblib\n",
    "\n",
    "# Load the dataset\n",
    "file_path = input(\"Enter the file path of the dataset: \")\n",
    "data = pd.read_csv(file_path)\n",
    "\n",
    "# Prompt user to input the time series column\n",
    "time_series_column = input(\"Enter the time series column: \")\n",
    "\n",
    "# Prompt user to input the target column\n",
    "target_column = input(\"Enter the target column: \")\n",
    "\n",
    "# Convert the time series column to datetime\n",
    "data[time_series_column] = pd.to_datetime(data[time_series_column], errors='coerce')\n",
    "\n",
    "# Remove the time series column before setting it as the index\n",
    "data.set_index(time_series_column, inplace=True)\n",
    "\n",
    "# Function to handle categorical data using Label Encoding\n",
    "def handle_categorical_data(data):\n",
    "    categorical_columns = data.select_dtypes(include=['object']).columns\n",
    "    label_encoders = {}\n",
    "    if len(categorical_columns) > 0:\n",
    "        for column in categorical_columns:\n",
    "            label_encoder = LabelEncoder()\n",
    "            data[column] = label_encoder.fit_transform(data[column])\n",
    "            label_encoders[column] = label_encoder\n",
    "    return data, label_encoders\n",
    "\n",
    "# Handle categorical data and get label encoders\n",
    "data, label_encoders = handle_categorical_data(data)\n",
    "\n",
    "# Function to prepare data for LSTM\n",
    "def prepare_data_for_lstm(data, target_column, look_back=1):\n",
    "    scaler = MinMaxScaler(feature_range=(0, 1))\n",
    "    dataset = scaler.fit_transform(data[[target_column]])\n",
    "\n",
    "    X, Y = [], []\n",
    "    for i in range(len(dataset) - look_back):\n",
    "        X.append(dataset[i:(i + look_back), 0])\n",
    "        Y.append(dataset[i + look_back, 0])\n",
    "    return np.array(X), np.array(Y), scaler\n",
    "\n",
    "# Function to create LSTM model\n",
    "def create_lstm_model(look_back):\n",
    "    model = Sequential()\n",
    "    model.add(LSTM(units=50, input_shape=(look_back, 1)))\n",
    "    model.add(Dense(units=1))\n",
    "    model.compile(optimizer='adam', loss='mean_squared_error')\n",
    "    return model\n",
    "\n",
    "# Function to train and save LSTM model\n",
    "def train_and_save_model(data, target_column, look_back=1, epochs=10, batch_size=1):\n",
    "    X, Y, scaler = prepare_data_for_lstm(data, target_column, look_back)\n",
    "    X = np.reshape(X, (X.shape[0], X.shape[1], 1))\n",
    "\n",
    "    model = create_lstm_model(look_back)\n",
    "    model.fit(X, Y, epochs=epochs, batch_size=batch_size, verbose=2)\n",
    "    \n",
    "    # Save the trained model\n",
    "    model.save('time_series_testing_model/trained_model.h5')\n",
    "    \n",
    "    # Save the scaler object\n",
    "    joblib.dump(scaler, 'time_series_testing_model/scaler.pkl')\n",
    "    \n",
    "    # Save the label encoders\n",
    "    joblib.dump(label_encoders, 'time_series_testing_model/label_encoders.pkl')\n",
    "\n",
    "# Train and save the model\n",
    "train_and_save_model(data, target_column=target_column, look_back=1, epochs=10, batch_size=1)\n"
   ]
  },
  {
   "cell_type": "markdown",
   "id": "b925204a",
   "metadata": {},
   "source": [
    "# simple"
   ]
  },
  {
   "cell_type": "code",
   "execution_count": null,
   "id": "3157e473",
   "metadata": {},
   "outputs": [],
   "source": [
    "import pandas as pd\n",
    "import numpy as np\n",
    "from sklearn.preprocessing import MinMaxScaler\n",
    "import tensorflow as tf\n",
    "from tensorflow.keras.models import Sequential\n",
    "from tensorflow.keras.layers import LSTM, Dense\n",
    "import joblib\n",
    "\n",
    "# Load the dataset\n",
    "file_path = 'Bussiness_facility/sample_Data.csv'\n",
    "data = pd.read_csv(file_path)\n",
    "\n",
    "# Prompt user to input the time series column\n",
    "time_series_column = input(\"Enter the time series column: \")\n",
    "\n",
    "# Prompt user to input the target column\n",
    "target_column = input(\"Enter the target column: \")\n",
    "\n",
    "# Convert the time series column to datetime\n",
    "data[time_series_column] = pd.to_datetime(data[time_series_column], errors='coerce')\n",
    "\n",
    "# Remove the time series column before setting it as the index\n",
    "data.set_index(time_series_column, inplace=True)\n",
    "\n"
   ]
  },
  {
   "cell_type": "code",
   "execution_count": null,
   "id": "051c3495",
   "metadata": {},
   "outputs": [],
   "source": [
    "data"
   ]
  },
  {
   "cell_type": "code",
   "execution_count": null,
   "id": "ef9d34ba",
   "metadata": {},
   "outputs": [],
   "source": [
    "# Prepare data for LSTM\n",
    "scaler = MinMaxScaler(feature_range=(0, 1))\n",
    "dataset = scaler.fit_transform(data[[target_column]])"
   ]
  },
  {
   "cell_type": "code",
   "execution_count": null,
   "id": "40c8b2a4",
   "metadata": {},
   "outputs": [],
   "source": [
    "dataset"
   ]
  },
  {
   "cell_type": "code",
   "execution_count": null,
   "id": "94a6c88a",
   "metadata": {},
   "outputs": [],
   "source": [
    "len(dataset)\n",
    "dataset.shape"
   ]
  },
  {
   "cell_type": "code",
   "execution_count": null,
   "id": "0f29c067",
   "metadata": {},
   "outputs": [],
   "source": [
    "look_back = 1\n",
    "X, Y = [], []\n",
    "for i in range(len(dataset) - look_back):\n",
    "    X.append(dataset[i:(i + look_back), 0])\n",
    "    Y.append(dataset[i + look_back, 0])\n",
    "X, Y = np.array(X), np.array(Y)\n",
    "X = np.reshape(X, (X.shape[0], X.shape[1], 1))\n",
    "\n",
    "# Create LSTM model\n",
    "model = Sequential()\n",
    "model.add(LSTM(units=50, input_shape=(look_back, 1)))\n",
    "model.add(Dense(units=1))\n",
    "model.compile(optimizer='adam', loss='mean_squared_error')\n",
    "\n",
    "# Train the model\n",
    "epochs = 10\n",
    "batch_size = 1\n",
    "model.fit(X, Y, epochs=epochs, batch_size=batch_size, verbose=2)\n",
    "\n",
    "# Save the trained model\n",
    "model.save('time_series_testing_model/trained_model.h5')\n",
    "\n",
    "# Save the scaler object\n",
    "joblib.dump(scaler, 'time_series_testing_model/scaler.pkl')\n"
   ]
  },
  {
   "cell_type": "code",
   "execution_count": 2,
   "id": "f72f0fc2",
   "metadata": {},
   "outputs": [],
   "source": [
    "import pandas as pd\n",
    "df= pd.read_csv(\"Knowledge/time series/xls/Combined_Combined_combined_data.csv/dataset/Combined_Combined_combined_data.csv\")"
   ]
  },
  {
   "cell_type": "code",
   "execution_count": 3,
   "id": "f80754f7",
   "metadata": {},
   "outputs": [
    {
     "name": "stdout",
     "output_type": "stream",
     "text": [
      "<class 'pandas.core.frame.DataFrame'>\n",
      "RangeIndex: 31680 entries, 0 to 31679\n",
      "Data columns (total 11 columns):\n",
      " #   Column        Non-Null Count  Dtype  \n",
      "---  ------        --------------  -----  \n",
      " 0   Unnamed: 0    31680 non-null  int64  \n",
      " 1   Unnamed: 0.1  31680 non-null  int64  \n",
      " 2   Time          31680 non-null  object \n",
      " 3   BG            31680 non-null  float64\n",
      " 4   CGM           31680 non-null  float64\n",
      " 5   CHO           31680 non-null  float64\n",
      " 6   insulin       31680 non-null  float64\n",
      " 7   LBGI          31680 non-null  float64\n",
      " 8   HBGI          31680 non-null  float64\n",
      " 9   Risk          31680 non-null  float64\n",
      " 10  Patient       31680 non-null  object \n",
      "dtypes: float64(7), int64(2), object(2)\n",
      "memory usage: 2.7+ MB\n"
     ]
    }
   ],
   "source": [
    "df.info()"
   ]
  },
  {
   "cell_type": "code",
   "execution_count": 4,
   "id": "1aeaca3b",
   "metadata": {},
   "outputs": [],
   "source": [
    "import pandas as pd\n",
    "df= pd.read_csv(\"Bussiness_facility/Combined_combined_data.csv\")"
   ]
  },
  {
   "cell_type": "code",
   "execution_count": 6,
   "id": "cf2a08fe",
   "metadata": {},
   "outputs": [
    {
     "name": "stdout",
     "output_type": "stream",
     "text": [
      "<class 'pandas.core.frame.DataFrame'>\n",
      "RangeIndex: 31680 entries, 0 to 31679\n",
      "Data columns (total 11 columns):\n",
      " #   Column        Non-Null Count  Dtype  \n",
      "---  ------        --------------  -----  \n",
      " 0   Unnamed: 0.1  31680 non-null  int64  \n",
      " 1   Unnamed: 0    31680 non-null  int64  \n",
      " 2   Time          31680 non-null  object \n",
      " 3   BG            31680 non-null  float64\n",
      " 4   CGM           31680 non-null  float64\n",
      " 5   CHO           31680 non-null  float64\n",
      " 6   insulin       31680 non-null  float64\n",
      " 7   LBGI          31680 non-null  float64\n",
      " 8   HBGI          31680 non-null  float64\n",
      " 9   Risk          31680 non-null  float64\n",
      " 10  Patient       31680 non-null  object \n",
      "dtypes: float64(7), int64(2), object(2)\n",
      "memory usage: 2.7+ MB\n"
     ]
    }
   ],
   "source": [
    "df.info()"
   ]
  },
  {
   "cell_type": "code",
   "execution_count": null,
   "id": "2bf49484",
   "metadata": {},
   "outputs": [],
   "source": []
  }
 ],
 "metadata": {
  "kernelspec": {
   "display_name": "Python 3 (ipykernel)",
   "language": "python",
   "name": "python3"
  },
  "language_info": {
   "codemirror_mode": {
    "name": "ipython",
    "version": 3
   },
   "file_extension": ".py",
   "mimetype": "text/x-python",
   "name": "python",
   "nbconvert_exporter": "python",
   "pygments_lexer": "ipython3",
   "version": "3.9.16"
  }
 },
 "nbformat": 4,
 "nbformat_minor": 5
}
